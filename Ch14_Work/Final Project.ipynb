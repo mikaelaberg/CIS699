{
 "metadata": {
  "language_info": {
   "codemirror_mode": {
    "name": "ipython",
    "version": 3
   },
   "file_extension": ".py",
   "mimetype": "text/x-python",
   "name": "python",
   "nbconvert_exporter": "python",
   "pygments_lexer": "ipython3",
   "version": "3.8.3-final"
  },
  "orig_nbformat": 2,
  "kernelspec": {
   "name": "python3",
   "display_name": "Python 3",
   "language": "python"
  }
 },
 "nbformat": 4,
 "nbformat_minor": 2,
 "cells": [
  {
   "source": [
    "# Project: Maze\n",
    "\n",
    "P-14.80\n",
    "One way to construct a maze starts with an n×n grid such that each grid cell is bounded by four unit-length walls. We then remove two boundary unit-length  walls,  to represent  the  start  and  finish. For each  remaining unit-length wall not on the boundary, we assign a random value and create a graph G, called the dual, such that each grid cell is a vertex in G and there is an edge joining the vertices for two cells if and only if the cells share a common wall. The weight of each edge is the weight of the corresponding wall. We construct the maze by finding a minimum spanning tree T for G and removing all the walls corresponding  to edges in T.\n",
    "\n",
    "Write a program that uses this algorithm to generate mazes and thensolves them. Minimally, your program should draw the maze and, ideally, it should visualize the solution as well."
   ],
   "cell_type": "markdown",
   "metadata": {}
  },
  {
   "source": [
    "## Randomized Kruskal's algorithm\n",
    "\n",
    "This algorithm is a randomized version of Kruskal's algorithm.\n",
    "\n",
    "1. Create a list of all walls, and create a set for each cell, each containing just that one cell.\n",
    "\n",
    "2. For each wall, in some random order:\n",
    "\n",
    "    a. If the cells divided by this wall belong to distinct sets:\n",
    "\n",
    "        i. Remove the current wall.\n",
    "        \n",
    "        ii. Join the sets of the formerly divided cells.\n",
    "\n",
    "There are several data structures that can be used to model the sets of cells. An efficient implementation using a disjoint-set data structure can perform each union and find operation on two sets in nearly constant amortized time, so the running time of this algorithm is essentially proportional to the number of walls available to the maze.\n",
    "\n",
    "It matters little whether the list of walls is initially randomized or if a wall is randomly chosen from a nonrandom list, either way is just as easy to code.\n",
    "\n",
    "Because the effect of this algorithm is to produce a minimal spanning tree from a graph with equally weighted edges, it tends to produce regular patterns which are fairly easy to solve."
   ],
   "cell_type": "markdown",
   "metadata": {}
  },
  {
   "source": [
    "## Randomized Prim's algorithm\n",
    "This algorithm is a randomized version of Prim's algorithm.\n",
    "\n",
    "1. Start with a grid full of walls.\n",
    "\n",
    "2. Pick a cell, mark it as part of the maze. Add the walls of the cell to the wall list.\n",
    "\n",
    "3. While there are walls in the list:\n",
    "\n",
    "    a. Pick a random wall from the list. If only one of the two cells that the wall divides is visited, then:\n",
    "\n",
    "        i. Make the wall a passage and mark the unvisited cell as part of the maze.\n",
    "\n",
    "        ii. Add the neighboring walls of the cell to the wall list.\n",
    "\n",
    "    b. Remove the wall from the list.\n",
    "\n",
    "Note that simply running classical Prim's on a graph with random edge weights would create mazes stylistically identical to Kruskal's, because they are both minimal spanning tree algorithms. Instead, this algorithm introduces stylistic variation because the edges closer to the starting point have a lower effective weight."
   ],
   "cell_type": "markdown",
   "metadata": {}
  },
  {
   "source": [
    "#### Textbook Code"
   ],
   "cell_type": "markdown",
   "metadata": {}
  },
  {
   "cell_type": "code",
   "execution_count": null,
   "metadata": {},
   "outputs": [],
   "source": [
    "Nested Vertex Class"
   ]
  },
  {
   "cell_type": "code",
   "execution_count": 11,
   "metadata": {},
   "outputs": [],
   "source": [
    "class Vertex:\n",
    "    \"\"\"Lightweight vertex structure for a graph\"\"\"\n",
    "    __slots__ = '_element'\n",
    "\n",
    "    def __init__(self, x):\n",
    "        \"\"\"Do not call constructor directly. Use Graph's insert_vertex(x).\n",
    "        \"\"\"\n",
    "        self._element = x \n",
    "\n",
    "    def element(self):\n",
    "        \"\"\"Return element associate with this vertex.\n",
    "        \"\"\"\n",
    "        return self._element\n",
    "\n",
    "    def __hash__(self):         # Will allow vertex to be a map/set key\n",
    "        return hash(id(self))"
   ]
  },
  {
   "source": [
    "Nested Edge Class"
   ],
   "cell_type": "markdown",
   "metadata": {}
  },
  {
   "cell_type": "code",
   "execution_count": 12,
   "metadata": {},
   "outputs": [],
   "source": [
    "class Edge:\n",
    "    \"\"\"Lightwight edge structure for a graph.\n",
    "    \"\"\"\n",
    "    __slots__ = '_orgin', '_destination', '_element' \n",
    "\n",
    "    def __init__(self, u, v, x):\n",
    "        \"\"\"Do not call constructor directly. Use Graph's insert_edge(u, v, x)\n",
    "        \"\"\"\n",
    "        self._orgin = u \n",
    "        self._destination = v\n",
    "        self._element = x\n",
    "\n",
    "    def endpoints(self):\n",
    "        \"\"\"Return (u, v) tuple for vertices u and v\n",
    "        \"\"\"\n",
    "        return (self._orgin, self._destination)\n",
    "\n",
    "    def opposite(self, v):\n",
    "        \"\"\"Return elemeent associate with this edge\n",
    "        \"\"\"\n",
    "        return self._element\n",
    "\n",
    "    def __hash__(self):         # Will allow edge to be a map/set key\n",
    "        return hash((self._orgin, self._destination))"
   ]
  },
  {
   "cell_type": "code",
   "execution_count": null,
   "metadata": {},
   "outputs": [],
   "source": [
    "class Graph:\n",
    "    \"\"\"Representation of a simple graph usnig an adjency map.\n",
    "    \"\"\"\n",
    "    def __init__(self, directed = False):\n",
    "        \"\"\"Created an empty graph (undirected, by default).\n",
    "        Graph is directed if optional parameter is set to True \n",
    "        \"\"\"\n",
    "        self._outgoing = {}\n",
    "        # only create second map for directed graph; use alias for undireccted.\n",
    "        self._incoming = {} if directed else self._outgoing\n",
    "\n",
    "    def is_directed(self):\n",
    "        \"\"\"Return True if this is directed graph; False if undirected.\n",
    "        Property is based on the orgional declaration of the graph, not its contents\n",
    "        \"\"\"\n",
    "        return self._incoming is not self.outgoing # Directed if maps are distinct \n",
    "\n",
    "    def vertex_count(self):\n",
    "        \"\"\"Return the number of vertices in the graph. \n",
    "        \"\"\"\n",
    "        return len(self._outgoing)\n",
    "    \n",
    "    def vertices(self):\n",
    "        \"\"\"Return an iteration of all verticies of the graph\n",
    "        \"\"\"\n",
    "        return self._outgoing.keys()\n",
    "\n",
    "    def edge_count(self):\n",
    "        \"\"\"Return the number of edges inthe graph\n",
    "        \"\"\"\n",
    "        total = sum(len(self._outgoing[v]) for v in self._outgoing)\n",
    "        # For undirected graphs, make sure not to double count edges\n",
    "        return total if self.is_directed() else total // 2\n",
    "    \n",
    "    def edges(self):\n",
    "        \"\"\"Return a set of all edges of the graph\n",
    "        \"\"\"\n",
    "        result = set()    # Avoid double-reporting edges of undirected graphs\n",
    "        for secondary_map in self._outgoing.values():\n",
    "            results.update(secondary_map.values())# Add edges to resulting set\n",
    "        return result \n",
    "    \n",
    "    def get_edge(self, u, v):\n",
    "        \"\"\"Return the edge from u to v, or None if not adjacent\n",
    "        \"\"\"\n",
    "        return self._outgoing[u].get(v) #return None if V not adjacent\n",
    "\n",
    "    def degree(self, v, outgoing=True):\n",
    "        \"\"\"Return number of (outgoing) edges incident to vertex v in the graph\n",
    "        If graph is directed, optional parameter used to count incoming edges.\n",
    "        \"\"\"\n",
    "        adj = self._outgoing if outgoing else self._incoming\n",
    "        for edge in adj[v].values():\n",
    "            yield edge\n",
    "\n",
    "    def insert_vertex(self, x = None): \n",
    "        \"\"\"Insert and return a new Vertex with element x\n",
    "        \"\"\"\n",
    "        v = self. Vertex(x)\n",
    "        self._outgoing[v] = {}\n",
    "        if self.is_directed():\n",
    "            self._incoming[v] = {} # Need to distinct map for incoming edges\n",
    "        return v\n",
    "\n",
    "    def insert_edge(self, u, v, x=None):\n",
    "        \"\"\"Insert and return a new Edge from u to v with auxiliary element x\n",
    "        \"\"\"\n",
    "        e = self.Edge(u, v, x)\n",
    "        self._outgoing[u][v] = e\n",
    "        self._incoming[v][u] = e\n",
    "    "
   ]
  },
  {
   "cell_type": "code",
   "execution_count": null,
   "metadata": {},
   "outputs": [],
   "source": [
    "MST Prim Jarnik"
   ]
  },
  {
   "cell_type": "code",
   "execution_count": null,
   "metadata": {},
   "outputs": [],
   "source": [
    "def MST_PrimJarnik(g):\n",
    "    \"\"\"Compute a minimum spanning tree of weighted graph g.\n",
    "    Return a list of edges that comprise the MST(arpirtary order)\n",
    "    \"\"\"\n",
    "    d = {} # d[v] is bound on distance to tree\n",
    "    tree = [] # list of edges in spanning tree\n",
    "    pq = AdaptableHeapPriorityQueue( )# d[v] maps to value (v, e=(u,v))\n",
    "    pqlocator ={}# map from vertex to its pq locator\n",
    "\n",
    "# for each vertex v of the graph, add an entry to the priority queue, with\n",
    "# the source having distance 0 and all others having infinite distance\n",
    "    for v in g.vertices( ):\n",
    "        if len(d) == 0:         # This is the first node\n",
    "            d[v] = 0            # Make it in root\n",
    "        else: \n",
    "            d[v] = float('inf')    # Positive infinity \n",
    "        pdlocator[v] = pd.add(d[v], (v, None))\n",
    "\n",
    "    while not pd.is_empty():\n",
    "        key,value = pd.remove_min()\n",
    "        u, edge = value         # Unpack tuple for pq\n",
    "        del pqlocator[u]        # U is no longer in pq\n",
    "        if edge is not None:\n",
    "            tree.append(edge)   # Add edge to tree\n",
    "        for link in g.incident_edges(u):\n",
    "            v = link.opposite(u)\n",
    "            if v in pqlocator: \n",
    "                # see if edge (u, v) bettr connets v to grouwing tree\n",
    "                wgt = link.element()\n",
    "                if wgt<d[v]:\n",
    "                    d[v] = wgt \n",
    "                    pq.update(pdlocator[v], d[v], (v, link))\n",
    "    return tree\n",
    "\n",
    "\n"
   ]
  },
  {
   "source": [
    "### Imports"
   ],
   "cell_type": "markdown",
   "metadata": {}
  },
  {
   "cell_type": "code",
   "execution_count": 3,
   "metadata": {},
   "outputs": [],
   "source": [
    "import random \n",
    "import turtle \n",
    "import matplotlib \n",
    "import numpy as np"
   ]
  },
  {
   "cell_type": "code",
   "execution_count": null,
   "metadata": {},
   "outputs": [],
   "source": [
    "\n",
    "\n",
    "class Grid():\n",
    "\n",
    "    def __init__(self, grid, n = 4):\n",
    "        \"\"\"Initalization\n",
    "        n = number of dimentions so n = 4 => 4 x 4 grid\n",
    "        \"\"\"\n",
    "        self.grid = {}\n",
    "        self.h = h\n",
    "        self.w = w\n",
    "\n",
    "        #I would have to have soemthing for if it was visited no? but would that go into the search?\n",
    "        # Could also include some kind of vertice counter or is that in the search function for the edge counter?\n",
    "\n",
    "    def node(self, x, y):\n",
    "        \"\"\"Being the single cell but should have node properties\n",
    "        Should have a north, south, east, west direction function? \n",
    "\n",
    "        the x y should refer to an indicies in the grid no?\n",
    "        \"\"\"\n",
    "        self.x = x\n",
    "        self.y = y\n",
    "        \n",
    "    def nodegrid(self):\n",
    "        \"\"\" fills the grid with nodes\n",
    "\n",
    "        or should I make the grid 0? and then replace/append the 0's \n",
    "        \"\"\"\n",
    "\n",
    "    def edge(self):\n",
    "        \"\"\"defing what an edge is\n",
    "        \"\"\"\n",
    "    \n",
    "    def isedge(self)\n",
    "        \"\"\"Check this node edges buy returning the edge count and direction\n",
    "\n",
    "        unsure if this is needed?\n",
    "        \"\"\"\n",
    "        \n",
    "    def removebound(self):\n",
    "        \"\"\"removing two boundries/edges at random  \n",
    "        \"\"\"\n",
    "\n",
    "    def start_finish(self):\n",
    "        \"\"\" find what boundaries were removed and \n",
    "        denote the start and finish \n",
    "        \"\"\"\n",
    "\n",
    "    def weightedge_dual_G(self):\n",
    "        \"\"\"at random give the edges a weight\n",
    "        \"\"\""
   ]
  },
  {
   "cell_type": "code",
   "execution_count": 2,
   "metadata": {},
   "outputs": [],
   "source": [
    "class Maze():\n",
    "    \"\"\" constructing the maze by MST using the weightedge_dual_G to remove \n",
    "    all the walls corresponding to the edges\n",
    "    \"\"\"\n",
    "\n",
    "    def search():\n",
    "        \"\"\" using a serch algrothim find the shortrest path in the grid\n",
    "        \"\"\"\n",
    "\n",
    "    def removeedge():\n",
    "        \"\"\" remove edges not found in the search...\n",
    "        imo I would remove edges at random THEN search the remanding paths.\n",
    "        \"\"\"\n",
    "\n",
    "    def printmaze():\n",
    "        \"\"\" print the maze \n",
    "        turtle?\n",
    "        denote start, end here from the two boundaris removed\n",
    "        some how show the maze solution\n",
    "        \"\"\"\n",
    "\n",
    "    "
   ]
  },
  {
   "source": [
    "# Reflection\n",
    "\n",
    "I failed to properly manage my time for this project argo not much or in my book andy good progress. I do have the pseude code to work on it but there are some thoughts and questions that I still dont know how to fingure out.\n",
    "\n",
    "1. Why would I remove all the edge and not some to make the maze?\n",
    "\n",
    "2. From the many examples I have looked at the maze is either a) generate at random or b) maze is predertermiend and the solving is by MST. But I have yet to see a maze created by MST. \n",
    "\n",
    "3. I would have to have soemthing for if it was visited no? but would that go into the search?\n",
    " "
   ],
   "cell_type": "markdown",
   "metadata": {}
  },
  {
   "source": [
    "Below is an outline of what I think is supposed to happen?"
   ],
   "cell_type": "markdown",
   "metadata": {}
  },
  {
   "cell_type": "code",
   "execution_count": 4,
   "metadata": {},
   "outputs": [
    {
     "output_type": "execute_result",
     "data": {
      "text/html": "<img src=\"https://media.discordapp.net/attachments/205822795874172928/789211369986719814/de4322b16dbc6834de8acab099154a14.png?width=732&height=234\"/>",
      "text/plain": [
       "<IPython.core.display.Image object>"
      ]
     },
     "metadata": {},
     "execution_count": 4
    }
   ],
   "source": [
    "from IPython.display import Image\n",
    "from IPython.core.display import HTML \n",
    "Image(url= \"https://media.discordapp.net/attachments/205822795874172928/789211369986719814/de4322b16dbc6834de8acab099154a14.png?width=732&height=234\")"
   ]
  },
  {
   "source": [
    "or link this link: \n",
    "\n",
    "https://graphonline.ru/en/?graph=iPtEOFiuBJYOxKxw\n",
    "\n",
    "or this one\n",
    "\n",
    "https://graphonline.ru/en/?graph=XmjZvjPVaTLJNpKM"
   ],
   "cell_type": "markdown",
   "metadata": {}
  },
  {
   "source": [
    "### Meeting Notes: \n",
    "\n",
    "- Generate a  graph with a (random or set?) number of nodes (n)\n",
    "\n",
    "- Also generate a randome number of connections and edges (k)\n",
    "\n",
    "- k > n \n",
    "\n",
    "- Output: \n",
    "\n",
    "Graph 1: \n",
    "\n",
    "- n nodes\n",
    "\n",
    "- k random.edge where k > n \n",
    "\n",
    "- Randome weights on the edges \n",
    "\n",
    "Graph 2: \n",
    "\n",
    "- The MST skeleton graph\n",
    "\n",
    "Other notes: \n",
    "\n",
    "Generate the minimum spanning tree (MST) on the weights then; \n",
    "    find rate of A -> B weith smalles numerical vlaue\n",
    "    and knock out the walls after finding ther solution. \n"
   ],
   "cell_type": "markdown",
   "metadata": {}
  },
  {
   "cell_type": "code",
   "execution_count": 23,
   "metadata": {},
   "outputs": [
    {
     "output_type": "execute_result",
     "data": {
      "image/png": "[encoded data removed]",
      "text/plain": [
       "<IPython.core.display.Image object>"
      ]
     },
     "metadata": {},
     "execution_count": 23
    }
   ],
   "source": [
    "#Import library\n",
    "from IPython.display import Image\n",
    "# Load image from local storage\n",
    "Image(filename = \"Capture.png\")"
   ]
  },
  {
   "cell_type": "code",
   "execution_count": null,
   "metadata": {},
   "outputs": [],
   "source": []
  }
 ]
}