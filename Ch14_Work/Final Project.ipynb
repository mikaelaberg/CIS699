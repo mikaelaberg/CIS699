{
 "metadata": {
  "language_info": {
   "codemirror_mode": {
    "name": "ipython",
    "version": 3
   },
   "file_extension": ".py",
   "mimetype": "text/x-python",
   "name": "python",
   "nbconvert_exporter": "python",
   "pygments_lexer": "ipython3",
   "version": "3.8.3-final"
  },
  "orig_nbformat": 2,
  "kernelspec": {
   "name": "python3",
   "display_name": "Python 3",
   "language": "python"
  }
 },
 "nbformat": 4,
 "nbformat_minor": 2,
 "cells": [
  {
   "source": [
    "# Project: Maze\n",
    "\n",
    "P-14.80\n",
    "One way to construct a maze starts with an n×n grid such that each grid cell is bounded by four unit-length walls. We then remove two boundary unit-length  walls,  to represent  the  start  and  finish. For each  remaining unit-length wall not on the boundary, we assign a random value and create a graph G, called the dual, such that each grid cell is a vertex in G and there is an edge joining the vertices for two cells if and only if the cells share a common wall. The weight of each edge is the weight of the corresponding wall. We construct the maze by finding a minimum spanning tree T for G and removing all the walls corresponding  to edges in T.\n",
    "\n",
    "Write a program that uses this algorithm to generate mazes and thensolves them. Minimally, your program should draw the maze and, ideally, it should visualize the solution as well."
   ],
   "cell_type": "markdown",
   "metadata": {}
  },
  {
   "source": [
    "## Randomized Kruskal's algorithm\n",
    "\n",
    "This algorithm is a randomized version of Kruskal's algorithm.\n",
    "\n",
    "1. Create a list of all walls, and create a set for each cell, each containing just that one cell.\n",
    "\n",
    "2. For each wall, in some random order:\n",
    "\n",
    "    a. If the cells divided by this wall belong to distinct sets:\n",
    "\n",
    "        i. Remove the current wall.\n",
    "        \n",
    "        ii. Join the sets of the formerly divided cells.\n",
    "\n",
    "There are several data structures that can be used to model the sets of cells. An efficient implementation using a disjoint-set data structure can perform each union and find operation on two sets in nearly constant amortized time, so the running time of this algorithm is essentially proportional to the number of walls available to the maze.\n",
    "\n",
    "It matters little whether the list of walls is initially randomized or if a wall is randomly chosen from a nonrandom list, either way is just as easy to code.\n",
    "\n",
    "Because the effect of this algorithm is to produce a minimal spanning tree from a graph with equally weighted edges, it tends to produce regular patterns which are fairly easy to solve."
   ],
   "cell_type": "markdown",
   "metadata": {}
  },
  {
   "source": [
    "## Randomized Prim's algorithm\n",
    "This algorithm is a randomized version of Prim's algorithm.\n",
    "\n",
    "1. Start with a grid full of walls.\n",
    "\n",
    "2. Pick a cell, mark it as part of the maze. Add the walls of the cell to the wall list.\n",
    "\n",
    "3. While there are walls in the list:\n",
    "\n",
    "    a. Pick a random wall from the list. If only one of the two cells that the wall divides is visited, then:\n",
    "\n",
    "        i. Make the wall a passage and mark the unvisited cell as part of the maze.\n",
    "\n",
    "        ii. Add the neighboring walls of the cell to the wall list.\n",
    "\n",
    "    b. Remove the wall from the list.\n",
    "\n",
    "Note that simply running classical Prim's on a graph with random edge weights would create mazes stylistically identical to Kruskal's, because they are both minimal spanning tree algorithms. Instead, this algorithm introduces stylistic variation because the edges closer to the starting point have a lower effective weight."
   ],
   "cell_type": "markdown",
   "metadata": {}
  },
  {
   "source": [
    "### Imports: "
   ],
   "cell_type": "markdown",
   "metadata": {}
  },
  {
   "cell_type": "code",
   "execution_count": 6,
   "metadata": {},
   "outputs": [],
   "source": [
    "import random \n",
    "import matplotlib\n",
    "from collections import defaultdict \n"
   ]
  },
  {
   "source": [
    "## Using Kruskal's algrothim \n",
    "\n",
    "to find a minimum spaning tree (MST) of a given connected, undirected and weighted graph"
   ],
   "cell_type": "markdown",
   "metadata": {}
  },
  {
   "cell_type": "code",
   "execution_count": null,
   "metadata": {},
   "outputs": [],
   "source": []
  }
 ]
}