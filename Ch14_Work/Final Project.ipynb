{
 "metadata": {
  "language_info": {
   "codemirror_mode": {
    "name": "ipython",
    "version": 3
   },
   "file_extension": ".py",
   "mimetype": "text/x-python",
   "name": "python",
   "nbconvert_exporter": "python",
   "pygments_lexer": "ipython3",
   "version": "3.8.3-final"
  },
  "orig_nbformat": 2,
  "kernelspec": {
   "name": "python3",
   "display_name": "Python 3",
   "language": "python"
  }
 },
 "nbformat": 4,
 "nbformat_minor": 2,
 "cells": [
  {
   "source": [
    "# Project: Maze\n",
    "\n",
    "P-14.80\n",
    "One way to construct a maze starts with an n×n grid such that each grid cell is bounded by four unit-length walls. We then remove two boundary unit-length  walls,  to represent  the  start  and  finish. For each  remaining unit-length wall not on the boundary, we assign a random value and create a graph G, called the dual, such that each grid cell is a vertex in G and there is an edge joining the vertices for two cells if and only if the cells share a common wall. The weight of each edge is the weight of the corresponding wall. We construct the maze by finding a minimum spanning tree T for G and removing all the walls corresponding  to edges in T.\n",
    "\n",
    "Write a program that uses this algorithm to generate mazes and thensolves them. Minimally, your program should draw the maze and, ideally, it should visualize the solution as well."
   ],
   "cell_type": "markdown",
   "metadata": {}
  },
  {
   "source": [
    "## Imports:"
   ],
   "cell_type": "markdown",
   "metadata": {}
  },
  {
   "cell_type": "code",
   "execution_count": 4,
   "metadata": {},
   "outputs": [],
   "source": [
    "import random \n",
    "import turtle\n"
   ]
  },
  {
   "source": [
    "### Setting Up the Maze\n"
   ],
   "cell_type": "markdown",
   "metadata": {}
  },
  {
   "cell_type": "code",
   "execution_count": 5,
   "metadata": {},
   "outputs": [],
   "source": [
    "def setup():\n",
    "    global length, height, scale, strange, solve\n",
    "    strange=\"false\"\n",
    "    solve=\"false\"\n",
    "    f = open(r\"C:\\Users\\Mikaela\\Desktop\\F20\\CIS699\\CIS699\\CIS699\\Ch14_Work\\Config.txt\")\n",
    "    for lines in f:\n",
    "        lines=lines.strip('\\n')\n",
    "        items = lines.split(\"= \")\n",
    "        if(items[0]==\"length\"):\n",
    "            length=int(items[1])\n",
    "        elif(items[0]==\"height\"):\n",
    "            height=int(items[1])\n",
    "        elif(items[0]==\"scale\"):\n",
    "            scale=int(items[1])\n",
    "        elif(items[0]==\"strange? (y/n)\" and items[1]==\"y\"):\n",
    "            strange=\"true\"\n",
    "        elif(items[0]==\"solve (y/n)\" and items[1]==\"y\"):\n",
    "            solve=\"true\"\n",
    "   \n",
    "\n"
   ]
  },
  {
   "cell_type": "code",
   "execution_count": 6,
   "metadata": {},
   "outputs": [],
   "source": [
    "def grid():\n",
    "    global grid,visit,visited,heights,rows,total\n",
    "    grid=[]\n",
    "    visit=[]\n",
    "    visited=[]\n",
    "    heights=height//scale\n",
    "    rows=length//scale\n",
    "    total=rows*heights\n",
    "    counter=0\n",
    "    while(total!=counter):\n",
    "        grid.append(counter)\n",
    "        visit.append(0)\n",
    "        visited.append(counter)\n",
    "        visited.append(0)\n",
    "        counter+=1"
   ]
  },
  {
   "cell_type": "code",
   "execution_count": 15,
   "metadata": {},
   "outputs": [],
   "source": [
    "def NESW(current):\n",
    "    cords=[current+rows,current+1,current-rows,current-1]\n",
    "    stats=[]\n",
    "    for i in cords:\n",
    "        if(i>total-1 or i<0 or (i//rows!=current//rows and i%rows!=current%rows)):\n",
    "            stats.append(3)\n",
    "        else:\n",
    "            stats.append(visit[i])\n",
    "    if(visit[current]<=min(stats)):\n",
    "        return visited[(current*2)+1]\n",
    "    counter=0\n",
    "    for i in stats:\n",
    "        if(i==min(stats)):\n",
    "            counter+=1\n",
    "    options=[1,3]\n",
    "    choice=options[random.randint(0,1)]\n",
    "    if(strange==\"true\" and counter==choice):\n",
    "        return visited[(current*2)+1]\n",
    "    NESW=random.randint(0, counter-1)\n",
    "    counter=0\n",
    "    count=0\n",
    "    for i in stats:\n",
    "        if(i==min(stats)):\n",
    "            if(counter==NESW):\n",
    "                visit[cords[count]]+=1\n",
    "                visited[(grid[cords[count]]*2)+1]=current\n",
    "                return grid[cords[count]]\n",
    "            counter+=1\n",
    "        count+=1"
   ]
  },
  {
   "cell_type": "code",
   "execution_count": 7,
   "metadata": {},
   "outputs": [],
   "source": [
    "def tset():\n",
    "    global t,wn\n",
    "    wn=turtle.Screen()\n",
    "    wn.bgcolor(\"grey\")\n",
    "    t=turtle.Turtle()\n",
    "    t.ht()\n",
    "    t.speed(0)\n",
    "    t.pensize(scale-(scale*.2))\n",
    "    t.color(\"white\")\n",
    "    t.up()\n",
    "    t.goto((-.5*rows)*scale,(-.5*heights)*scale)\n",
    "    t.pendown()"
   ]
  },
  {
   "cell_type": "code",
   "execution_count": 9,
   "metadata": {},
   "outputs": [],
   "source": [
    "def generate():\n",
    "    visit[0]=1\n",
    "    previous=0\n",
    "    while(min(visit)!=1):\n",
    "        previous=NESW(previous)\n",
    "        t.goto(((previous % rows)-.5*rows)*scale,((previous // rows)-.5*heights) * scale)\n",
    "    \n"
   ]
  },
  {
   "cell_type": "code",
   "execution_count": 11,
   "metadata": {},
   "outputs": [],
   "source": [
    "def solver():\n",
    "    path=grid[total-1]\n",
    "    t.down()\n",
    "    t.color(\"purple\")\n",
    "    while(path!=0):\n",
    "        path=visited[(path*2)+1]\n",
    "        t.goto(((path % rows)-.5*rows)*scale,((path // rows)-.5*heights) * scale)"
   ]
  },
  {
   "cell_type": "code",
   "execution_count": 13,
   "metadata": {},
   "outputs": [],
   "source": [
    "def StartStop():\n",
    "    global path\n",
    "    t.pensize(scale*.6)\n",
    "    t.up()\n",
    "    t.goto((-.5*rows)*scale,(-.5*heights)*scale)\n",
    "    t.down()\n",
    "    t.seth(180)\n",
    "    t.color(\"green\")\n",
    "    t.forward(scale)\n",
    "    t.up()\n",
    "    path=grid[total-1]\n",
    "    t.goto(((path % rows)-.5*rows)*scale,((path // rows)-.5*heights) * scale)\n",
    "    t.down()\n",
    "    t.color(\"red\")\n",
    "    t.seth(0)\n",
    "    t.forward(scale)\n",
    "    t.up()\n",
    "    t.backward(scale)"
   ]
  },
  {
   "cell_type": "code",
   "execution_count": 14,
   "metadata": {},
   "outputs": [
    {
     "output_type": "error",
     "ename": "NameError",
     "evalue": "name 'NESW' is not defined",
     "traceback": [
      "\u001b[1;31m---------------------------------------------------------------------------\u001b[0m",
      "\u001b[1;31mNameError\u001b[0m                                 Traceback (most recent call last)",
      "\u001b[1;32m<ipython-input-14-5124023aff34>\u001b[0m in \u001b[0;36m<module>\u001b[1;34m\u001b[0m\n\u001b[0;32m      8\u001b[0m         \u001b[0msolver\u001b[0m\u001b[1;33m(\u001b[0m\u001b[1;33m)\u001b[0m\u001b[1;33m\u001b[0m\u001b[1;33m\u001b[0m\u001b[0m\n\u001b[0;32m      9\u001b[0m     \u001b[0mwn\u001b[0m\u001b[1;33m.\u001b[0m\u001b[0mexitonclick\u001b[0m\u001b[1;33m(\u001b[0m\u001b[1;33m)\u001b[0m\u001b[1;33m\u001b[0m\u001b[1;33m\u001b[0m\u001b[0m\n\u001b[1;32m---> 10\u001b[1;33m \u001b[0mmain\u001b[0m\u001b[1;33m(\u001b[0m\u001b[1;33m)\u001b[0m\u001b[1;33m\u001b[0m\u001b[1;33m\u001b[0m\u001b[0m\n\u001b[0m",
      "\u001b[1;32m<ipython-input-14-5124023aff34>\u001b[0m in \u001b[0;36mmain\u001b[1;34m()\u001b[0m\n\u001b[0;32m      3\u001b[0m     \u001b[0mgrid\u001b[0m\u001b[1;33m(\u001b[0m\u001b[1;33m)\u001b[0m\u001b[1;33m\u001b[0m\u001b[1;33m\u001b[0m\u001b[0m\n\u001b[0;32m      4\u001b[0m     \u001b[0mtset\u001b[0m\u001b[1;33m(\u001b[0m\u001b[1;33m)\u001b[0m\u001b[1;33m\u001b[0m\u001b[1;33m\u001b[0m\u001b[0m\n\u001b[1;32m----> 5\u001b[1;33m     \u001b[0mgenerate\u001b[0m\u001b[1;33m(\u001b[0m\u001b[1;33m)\u001b[0m\u001b[1;33m\u001b[0m\u001b[1;33m\u001b[0m\u001b[0m\n\u001b[0m\u001b[0;32m      6\u001b[0m     \u001b[0mStartStop\u001b[0m\u001b[1;33m(\u001b[0m\u001b[1;33m)\u001b[0m\u001b[1;33m\u001b[0m\u001b[1;33m\u001b[0m\u001b[0m\n\u001b[0;32m      7\u001b[0m     \u001b[1;32mif\u001b[0m\u001b[1;33m(\u001b[0m\u001b[0msolve\u001b[0m\u001b[1;33m==\u001b[0m\u001b[1;34m\"true\"\u001b[0m\u001b[1;33m)\u001b[0m\u001b[1;33m:\u001b[0m\u001b[1;33m\u001b[0m\u001b[1;33m\u001b[0m\u001b[0m\n",
      "\u001b[1;32m<ipython-input-9-d6acdbe6712b>\u001b[0m in \u001b[0;36mgenerate\u001b[1;34m()\u001b[0m\n\u001b[0;32m      3\u001b[0m     \u001b[0mprevious\u001b[0m\u001b[1;33m=\u001b[0m\u001b[1;36m0\u001b[0m\u001b[1;33m\u001b[0m\u001b[1;33m\u001b[0m\u001b[0m\n\u001b[0;32m      4\u001b[0m     \u001b[1;32mwhile\u001b[0m\u001b[1;33m(\u001b[0m\u001b[0mmin\u001b[0m\u001b[1;33m(\u001b[0m\u001b[0mvisit\u001b[0m\u001b[1;33m)\u001b[0m\u001b[1;33m!=\u001b[0m\u001b[1;36m1\u001b[0m\u001b[1;33m)\u001b[0m\u001b[1;33m:\u001b[0m\u001b[1;33m\u001b[0m\u001b[1;33m\u001b[0m\u001b[0m\n\u001b[1;32m----> 5\u001b[1;33m         \u001b[0mprevious\u001b[0m\u001b[1;33m=\u001b[0m\u001b[0mNESW\u001b[0m\u001b[1;33m(\u001b[0m\u001b[0mprevious\u001b[0m\u001b[1;33m)\u001b[0m\u001b[1;33m\u001b[0m\u001b[1;33m\u001b[0m\u001b[0m\n\u001b[0m\u001b[0;32m      6\u001b[0m         \u001b[0mt\u001b[0m\u001b[1;33m.\u001b[0m\u001b[0mgoto\u001b[0m\u001b[1;33m(\u001b[0m\u001b[1;33m(\u001b[0m\u001b[1;33m(\u001b[0m\u001b[0mprevious\u001b[0m \u001b[1;33m%\u001b[0m \u001b[0mrows\u001b[0m\u001b[1;33m)\u001b[0m\u001b[1;33m-\u001b[0m\u001b[1;36m.5\u001b[0m\u001b[1;33m*\u001b[0m\u001b[0mrows\u001b[0m\u001b[1;33m)\u001b[0m\u001b[1;33m*\u001b[0m\u001b[0mscale\u001b[0m\u001b[1;33m,\u001b[0m\u001b[1;33m(\u001b[0m\u001b[1;33m(\u001b[0m\u001b[0mprevious\u001b[0m \u001b[1;33m//\u001b[0m \u001b[0mrows\u001b[0m\u001b[1;33m)\u001b[0m\u001b[1;33m-\u001b[0m\u001b[1;36m.5\u001b[0m\u001b[1;33m*\u001b[0m\u001b[0mheights\u001b[0m\u001b[1;33m)\u001b[0m \u001b[1;33m*\u001b[0m \u001b[0mscale\u001b[0m\u001b[1;33m)\u001b[0m\u001b[1;33m\u001b[0m\u001b[1;33m\u001b[0m\u001b[0m\n\u001b[0;32m      7\u001b[0m \u001b[1;33m\u001b[0m\u001b[0m\n",
      "\u001b[1;31mNameError\u001b[0m: name 'NESW' is not defined"
     ]
    }
   ],
   "source": [
    "def main():\n",
    "    setup()\n",
    "    grid()\n",
    "    tset()\n",
    "    generate()\n",
    "    StartStop()\n",
    "    if(solve==\"true\"):\n",
    "        solver()\n",
    "    wn.exitonclick()\n",
    "main()"
   ]
  },
  {
   "cell_type": "code",
   "execution_count": null,
   "metadata": {},
   "outputs": [],
   "source": []
  }
 ]
}