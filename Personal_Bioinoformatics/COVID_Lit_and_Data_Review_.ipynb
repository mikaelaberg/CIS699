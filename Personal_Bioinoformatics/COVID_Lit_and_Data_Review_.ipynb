{
 "metadata": {
  "language_info": {
   "codemirror_mode": {
    "name": "ipython",
    "version": 3
   },
   "file_extension": ".py",
   "mimetype": "text/x-python",
   "name": "python",
   "nbconvert_exporter": "python",
   "pygments_lexer": "ipython3",
   "version": 3
  },
  "orig_nbformat": 2
 },
 "nbformat": 4,
 "nbformat_minor": 2,
 "cells": [
  {
   "source": [
    "# Lit Review\n",
    "https://docs.google.com/presentation/d/1tyKaxBLVsjmXRseD29PRiOVLbCZgvRx95lUtzb4SIyw/edit#slide=id.gad5bf34db4_0_15"
   ],
   "cell_type": "markdown",
   "metadata": {}
  },
  {
   "cell_type": "code",
   "execution_count": null,
   "metadata": {},
   "outputs": [],
   "source": []
  },
  {
   "source": [
    "https://registry.opendata.aws/foldingathome-covid19/#usageexamples"
   ],
   "cell_type": "markdown",
   "metadata": {}
  },
  {
   "source": [
    "https://covid.molssi.org//simulations/#foldinghome-simulations-of-the-sars-cov-2-spike-protein-spike-spike-binding"
   ],
   "cell_type": "markdown",
   "metadata": {}
  },
  {
   "source": [
    "https://www.news-medical.net/news/20201123/SARS-CoV-2s-spike-protein-mutations-have-slowed-study-finds.aspx\n"
   ],
   "cell_type": "markdown",
   "metadata": {}
  }
 ]
}