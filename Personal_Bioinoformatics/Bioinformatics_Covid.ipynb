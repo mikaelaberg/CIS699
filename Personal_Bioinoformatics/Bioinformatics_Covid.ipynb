{
 "metadata": {
  "language_info": {
   "codemirror_mode": {
    "name": "ipython",
    "version": 3
   },
   "file_extension": ".py",
   "mimetype": "text/x-python",
   "name": "python",
   "nbconvert_exporter": "python",
   "pygments_lexer": "ipython3",
   "version": "3.8.3-final"
  },
  "orig_nbformat": 2,
  "kernelspec": {
   "name": "python3",
   "display_name": "Python 3"
  }
 },
 "nbformat": 4,
 "nbformat_minor": 2,
 "cells": [
  {
   "source": [
    "# Bioinfomatics Project Fall 2020 FUN time! \n"
   ],
   "cell_type": "markdown",
   "metadata": {}
  },
  {
   "source": [
    "### Textbook notes:\n",
    "Chapter 1: pg 10 - 15. Covers Bioinformatics Software: Two Culutres to Bioinformatics and other Informatics Disciplines \n",
    "\n",
    "Chapter 2: 19-20, 27- 52 (heavy but more focuses on where to find different bits of information), 54 - 57.\n",
    "\n",
    "http://library.lol/main/A77CC21145DB70298A80A4BB8FCB373D\n",
    "\n",
    "Really my question is how much does everyone else want to know? Like what questions about the data might they have? This will help me dig aorund the text more and figure out what I can read up on and help the group understand. "
   ],
   "cell_type": "markdown",
   "metadata": {}
  },
  {
   "source": [
    "## Some notes to start us off...\n",
    "\n",
    "- There are 21 amino acids, and 4 nucleotides for DNA (AGTC) and 4 nucleotides for RNA (AGCU). \n",
    "- There are many combinations of RNA that will code into the differnt amino acids. We believe this is a desigend safty feature of Eukaryotes (hey that includes us!).\n",
    "    Refernce the image below for a better visual depiction on how there is the overlap. There is only ONE start codon and 3 stop codons. The start codon does have an animo acid to it but the stop codons do not. They are simply communcating to the ribosome (assembler of protines) to terminate translation. "
   ],
   "cell_type": "markdown",
   "metadata": {}
  },
  {
   "cell_type": "code",
   "execution_count": 3,
   "metadata": {},
   "outputs": [
    {
     "output_type": "execute_result",
     "data": {
      "text/html": "<img src=\"https://lh3.googleusercontent.com/proxy/VPCUD7zOca6Qz94rANtZu5yOQDXUSXVZQu6QQY8hPykonccaTUgKii1jrXAFX8muCmJF-Gzf1rMLoiY7LElrYbPdcjcist6po9KwLjITw57L\"/>",
      "text/plain": [
       "<IPython.core.display.Image object>"
      ]
     },
     "metadata": {},
     "execution_count": 3
    }
   ],
   "source": [
    "from IPython.display import Image\n",
    "from IPython.core.display import HTML \n",
    "Image(url= \"https://lh3.googleusercontent.com/proxy/VPCUD7zOca6Qz94rANtZu5yOQDXUSXVZQu6QQY8hPykonccaTUgKii1jrXAFX8muCmJF-Gzf1rMLoiY7LElrYbPdcjcist6po9KwLjITw57L\")\n"
   ]
  },
  {
   "source": [
    "## Alignments: What are they and what do they tell us?\n",
    "\n",
    "There are differnt types of alignmnets. The most common being ***BLAST*** (Basic Local Alignment Search Tool) this is called a *pairwise alignmnet* . Hosted by NCBI's national canter for Biotechnology Information, blast will allow the user to input a sequence of anytype and search for similar sequence as well as align the inputed seqeunce to the retrieved ones. There are was yo cross search where you search for protein sequences with an input of DNA sequences. However this can get computationally expensive and so the most often way we search or use blast is to search DNA to DNA or protein to protein. \n",
    "\n",
    "The output from an alignmnet will tell you how cloesly realted the input sequence is to other sequences in the database. Some sequences can be complete or partial, the sequences will have more infoamtion like species and possible fucnitonality / annotation of what the sequence does / realtes to.\n",
    "\n",
    "https://blast-ncbi-nlm-nih-gov.ezproxy.gvsu.edu/Blast.cgi\n",
    "\n",
    "Below are differnt outputs from a NCBI BLAST search, not all from the same protein just showing what the interface looks like:\n"
   ],
   "cell_type": "markdown",
   "metadata": {}
  },
  {
   "cell_type": "code",
   "execution_count": 4,
   "metadata": {},
   "outputs": [
    {
     "output_type": "execute_result",
     "data": {
      "text/html": "<img src=\"https://ncbiinsights.ncbi.nlm.nih.gov/wp-content/uploads/2019/07/blast_results.png\"/>",
      "text/plain": [
       "<IPython.core.display.Image object>"
      ]
     },
     "metadata": {},
     "execution_count": 4
    }
   ],
   "source": [
    "Image(url=\"https://d3i71xaburhd42.cloudfront.net/5a658b1d79e1659076a9ec83c49c4312c2ce9927/6-Figure3-1.png\")\n",
    "Image(url=\"https://ncbiinsights.ncbi.nlm.nih.gov/wp-content/uploads/2019/07/blast_results.png\")\n",
    "# Image(url=\"https://abacus.bates.edu/bioinformatics1/screenshots/NCBI-10-BLAST-result-4.jpg\")"
   ]
  },
  {
   "source": [
    "There is also ***Conserved Domains*** also hosted bc NCBI and here you are searching protein stucutres and looking for well documented and annotated sequences of domains or full lenght proteins. Domains are parts of the protein that are repsonsible for specific functions, for example one part might involve ligand binding (binding or interaction with a drug or other molecule like insulin). A user can input a sequence unknonw or known and compare it to other known and annotated sequnces to identiify known domains of the protein. This helps the user understadn the biology and functionality of thier proetin or sequence they have obtained and how it realtes to others. \n",
    "\n",
    "https://www-ncbi-nlm-nih-gov.ezproxy.gvsu.edu/Structure/cdd/wrpsb.cgi\n",
    "\n",
    "Below is another smaple output to show off and how it looks similar to the BLAST:\n"
   ],
   "cell_type": "markdown",
   "metadata": {}
  },
  {
   "cell_type": "code",
   "execution_count": 16,
   "metadata": {},
   "outputs": [
    {
     "output_type": "execute_result",
     "data": {
      "text/html": "<img src=\"https://www.researchgate.net/profile/Aron_Marchler-Bauer/publication/51126362/figure/fig1/AS:277056874139658@1443066914905/NCBI-Conserved-Domains-annotated-on-a-protein-query-a-RPS-BLAST-is-used-to-find-domain.png\"/>",
      "text/plain": [
       "<IPython.core.display.Image object>"
      ]
     },
     "metadata": {},
     "execution_count": 16
    }
   ],
   "source": [
    "Image(url=\"https://www.researchgate.net/profile/Aron_Marchler-Bauer/publication/51126362/figure/fig1/AS:277056874139658@1443066914905/NCBI-Conserved-Domains-annotated-on-a-protein-query-a-RPS-BLAST-is-used-to-find-domain.png\")"
   ]
  },
  {
   "source": [
    "The other type of alignment I want to disucss is a ***mutlipule sequence alignmnet*** this allows the user to align two or more RNA, DNA, and even protein sequences (only one of the three it will not work with mix and matching). This funcitons similar to the other two alignmnets and most simialr to BLAST, where constrains used on a BLAST sequence can also be applied to a multipule sequence alignment. I am bias and I use EMBL- EBI's ***clustal omega*** alignmnet. The output will tell the user how simialr the sequnces align and it can help with visuliaztion of conserved domains, simialr and differnt sequneces. There is also a tree that is produced to show where some sequences might be similar than others or closer realted. These are called phyologony trees and there are more accurate programs that can create these for the user. \n",
    "\n",
    "https://www.ebi.ac.uk/Tools/msa/clustalo/"
   ],
   "cell_type": "markdown",
   "metadata": {}
  },
  {
   "cell_type": "code",
   "execution_count": 17,
   "metadata": {},
   "outputs": [
    {
     "output_type": "execute_result",
     "data": {
      "text/html": "<img src=\"https://home.sandiego.edu/~cloer/bio&chem330/330seq_analysis/clustal_aligns.jpg\"/>",
      "text/plain": [
       "<IPython.core.display.Image object>"
      ]
     },
     "metadata": {},
     "execution_count": 17
    }
   ],
   "source": [
    "Image(url=\"https://home.sandiego.edu/~cloer/bio&chem330/330seq_analysis/clustal_aligns.jpg\")"
   ]
  },
  {
   "source": [
    "## Sequence homology \n",
    "\n",
    "Usually in reference to protein to protein reference and someitmes DNA to DNA reference as well. There is no such thing has a *percent* homology, something is either homologuy or it is not. This tells the user if their sequence shares an ancestor with the matched sequences. Homologus proteins will share the same 3D strucutre, they dont always have to share the same or identical protein sturcutre. Exaple is gobulin like proteins, they share the same strucutre but their sequence idenity (from the aligments) is under 30%. Proteins that are homologus may be whats called orthologus or paralogous. Orthologs are homologuys sequences in different species that arose from a common ancestal gene during speication. Orthologs are presumed to have simialr biological functions. Paralogs are homologus sequneces that arose by a mechansim such as gene dupilication. "
   ],
   "cell_type": "markdown",
   "metadata": {}
  },
  {
   "cell_type": "code",
   "execution_count": 5,
   "metadata": {},
   "outputs": [
    {
     "output_type": "execute_result",
     "data": {
      "text/html": "<img src=\"https://www.ncbi.nlm.nih.gov/books/NBK62051/bin/blast_glossary-Image003.jpg\"/>",
      "text/plain": [
       "<IPython.core.display.Image object>"
      ]
     },
     "metadata": {},
     "execution_count": 5
    }
   ],
   "source": [
    "Image(url= \"https://www.ncbi.nlm.nih.gov/books/NBK62051/bin/blast_glossary-Image003.jpg\")"
   ]
  },
  {
   "source": [
    "## Kaggle Data sets:\n",
    "\n",
    "https://www.kaggle.com/jamzing/sars-coronavirus-accession?select=BAT_SARS_LIKE_coronavirus_complete_genome_sequence.fasta\n",
    "\n",
    "https://www.kaggle.com/paultimothymooney/repository-of-coronavirus-genomes\n",
    "\n",
    "https://www.kaggle.com/tunguz/covid19-genomes?select=MN997409.txt\n",
    "\n",
    "\n"
   ],
   "cell_type": "markdown",
   "metadata": {}
  },
  {
   "source": [
    "Papers for reference https://www-sciencedirect-com.ezproxy.gvsu.edu/science/article/pii/S2001037019304441\n",
    "\n",
    "modificaiton to the 2020 virus and compare it to the 2003, and then compare those to the vaccine and see if it \n"
   ],
   "cell_type": "markdown",
   "metadata": {}
  }
 ]
}