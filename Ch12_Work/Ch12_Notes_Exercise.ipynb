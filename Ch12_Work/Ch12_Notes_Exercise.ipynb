{
 "metadata": {
  "language_info": {
   "codemirror_mode": {
    "name": "ipython",
    "version": 3
   },
   "file_extension": ".py",
   "mimetype": "text/x-python",
   "name": "python",
   "nbconvert_exporter": "python",
   "pygments_lexer": "ipython3",
   "version": 3
  },
  "orig_nbformat": 2
 },
 "nbformat": 4,
 "nbformat_minor": 2,
 "cells": [
  {
   "source": [
    "# Chapter 12 \n",
    "\n",
    "## Read from 12.1 to 12.3 \n",
    "\n",
    " \n",
    "\n",
    "\n"
   ],
   "cell_type": "markdown",
   "metadata": {}
  },
  {
   "source": [
    "## 12.2.2 Array Based Implementaiton of Merge-Sort\n",
    "\n"
   ],
   "cell_type": "markdown",
   "metadata": {}
  },
  {
   "cell_type": "code",
   "execution_count": null,
   "metadata": {},
   "outputs": [],
   "source": [
    "def merge(S1,S2,S):\n",
    "    \"\"\"Merege two sorted python lists S1 and S2 into properly sized lists S.\"\"\"\n",
    "    i = j = 0 \n",
    "    while i + j < len(S):\n",
    "        if j == len(S2) or (i<len(S1) and S1[i] < S2[j]):\n",
    "            S[i+j] = S1[i]        # Copy ith element of S1 as next time of S\n",
    "            i += 1 \n",
    "        else:\n",
    "            S[i+j] = S2[j]        # Copy jth element of S2 as next time of S\n",
    "            j += 1 \n"
   ]
  },
  {
   "cell_type": "code",
   "execution_count": null,
   "metadata": {},
   "outputs": [],
   "source": [
    "def merge_sort(S): \n",
    "    \"\"\"Sort the elements of a Python list S using merge-sort algrothim.\"\"\"\n",
    "    n = len(S)\n",
    "    if n < 2: \n",
    "        return          # List is already sorted\n",
    "    #divide\n",
    "    mid = n // 2\n",
    "    S1 = S[0:mid]       # Copy of frst half\n",
    "    S2 = S[mid:n]       # Copy of second half\n",
    "    #conquer (with recursion)\n",
    "    merge_sort(S1)      # Sort copy of first half\n",
    "    merge_sort(S2)      # Sort copy of second half\n",
    "    #merge results\n",
    "    merge(S1, S2, S)    # Merge sorted halves back into S"
   ]
  },
  {
   "source": [
    "## 12.2.5 Alternative Implementations of Merge-Sort:"
   ],
   "cell_type": "markdown",
   "metadata": {}
  },
  {
   "source": [
    "### Sorting Linked Lists"
   ],
   "cell_type": "markdown",
   "metadata": {}
  },
  {
   "source": [
    "def merge(S1, S2, S):\n",
    "    \"\"\"Merge two sorted queue instances S1 and S2 into empty sque S.\"\"\"\n",
    "    while not S1.is_empty() and not S2.is_empty():\n",
    "        if S1.first() < S2.fisrt():\n",
    "            S.enqueue(S1.dequeue())\n",
    "        else:\n",
    "            S.enqueue(S2.dequeue())\n",
    "    while not S1.is_empty():           # Move remaining elements of S1 and S\n",
    "        S.enqueue(S1.dequeue())\n",
    "    while not S2.is_empty():           # Move remaining elements of S2 and S\n",
    "        S.enqueue(S2.dequeue())\n",
    "\n",
    "def merge_sort(S):\n",
    "    \"\"\"Sort the elements of queue S using the merge-sort algroithm.\"\"\"\n",
    "    n = len(S)\n",
    "    if n < 2: \n",
    "        return                        # List is alreay sorted\n",
    "    #divde\n",
    "    S1 = LinkedQueue()                # Or any other queue implementation\n",
    "    S2 = LinkedQueue()\n",
    "    while len(S1) < n // 2:           # Move the first n//2 elements of S1\n",
    "        S1.enqueue(S.dequeue())\n",
    "    while not S.is_empty():           # Move the rest to S2\n",
    "        S2.enqueue(S.dequeue())\n",
    "    #conquer(with recursion)\n",
    "    merge_sort(S1)                    # Sort the first half\n",
    "    merge_sort(S2)                    # Sort the second half\n",
    "    #merge results\n",
    "    merge(S1, S2, S)                  # Merge sorted halves back into S"
   ],
   "cell_type": "code",
   "metadata": {},
   "execution_count": null,
   "outputs": []
  },
  {
   "source": [
    "### Bottom - Up (Nonrecursive) Merge- Sort"
   ],
   "cell_type": "markdown",
   "metadata": {}
  },
  {
   "cell_type": "code",
   "execution_count": null,
   "metadata": {},
   "outputs": [],
   "source": [
    "def merge(src, results, start, inc):\n",
    "    \"\"\"Merge src[start:start+inc] and src[start+inc:start+2inc] into result.\"\"\"\n",
    "    end1 = start+inc                    # Boundary for run 1\n",
    "    end2 = min(start+2inc, len(src))    # Boundary for run 2\n",
    "    x,y,z = start, start+inc, start     # Index into run 1, run 2, result\n",
    "    while x < end1 and y < end2:\n",
    "        if src[x] = src[y]:\n",
    "            result[z] = src[x]; x += 1  # Copy from run 1 and increment x\n",
    "        else:\n",
    "            result[z] = src[y]: y += 1  # Copy from run 2 and increment y\n",
    "        z += 1                          # Increment z to reflect new result\n",
    "    if x < end1:\n",
    "        result[z:end2] = src[x:end1]    # Copy remainder of run 1 to output\n",
    "    elif y < end2:\n",
    "        result[z:end2} = src[y:end2]    # Copy remainder of run 2 to output\n",
    "\n",
    "def merge_sort(S):\n",
    "    \"\"\"Sort the elements of python list S using the merge-sort algorithm\"\"\"\n",
    "    n = len(S):\n",
    "    logn = math.ceil(math.log(n,2))\n",
    "    src, dest = S, [None] * n             # Make temporary storage for dest\n",
    "    for i in (2**k for k in range(logn)): # Pass i creates all runs of length 2 i\n",
    "        for j in range(0, n, 2*i):        # each pass merges two length i runs\n",
    "            merge(src, dest, j, i)\n",
    "        src, dest = dest, src             # Reverse roles of lists\n",
    "    if S is not src: \n",
    "        S[0:n] = src[0:n]                 # Additional copy to get results to S"
   ]
  },
  {
   "source": [
    "## 12.3 Quick Sort on General Sequences:"
   ],
   "cell_type": "markdown",
   "metadata": {}
  },
  {
   "cell_type": "code",
   "execution_count": null,
   "metadata": {},
   "outputs": [],
   "source": [
    "def quick_sort(S):\n",
    "    \"\"\"Sort the elements of queue S using the quick-sort algorithm.\"\"\"\n",
    "    n = len(S)\n",
    "    if n < 2:\n",
    "        return                  # List is already sorted \n",
    "    #divide \n",
    "    p = S.first()               # Using first as arbitrary pivot\n",
    "    L = LinkedQueue()\n",
    "    E = LinkedQueue()\n",
    "    G = LinkedQueue()\n",
    "    while not S.is_empty():    # Divide S into L, E, and G\n",
    "        if S.first() < p:\n",
    "            L.enqueue(S.dequeue())\n",
    "        elif p < S.first():\n",
    "            G.enqueue(S.dequeue())\n",
    "        else:                  # S.first() much equal pivot\n",
    "            E.enqueue(S.dequeue())\n",
    "    #conquer(with recursion)\n",
    "    quick_sort(L)              # Sort elements less than p\n",
    "    quick_sort(G)              # Sort elements greater then p\n",
    "    #concatenate results:\n",
    "    while not L.is_empty():\n",
    "        S.enqueue(L.dequeue())\n",
    "    while not E.is_empty():\n",
    "        S.enqueue(E.dequeue())\n",
    "    while not G.is_empty():\n",
    "        S.enqueue(G.dequeue())   "
   ]
  },
  {
   "source": [
    "## 12.3.2 Additional Optimizations for Quick-Sort"
   ],
   "cell_type": "markdown",
   "metadata": {}
  },
  {
   "cell_type": "code",
   "execution_count": null,
   "metadata": {},
   "outputs": [],
   "source": [
    "def inplace_quick_sort(S, a, b):\n",
    "    \"\"\"Sort the list from S[a] to S[b] inclusive using the quick-sort algrothim.\"\"\"\n",
    "    if a >= b: return                   # Range is trivially sorted\n",
    "    pivot = S[b]                        # Last element of range is pivot\n",
    "    left = a                            # Will scan rightward\n",
    "    right = b-1                         # Will scan leftward\n",
    "    while left<= right: \n",
    "        # Scan until reaching value equal or larger than pivot (or right maker).\n",
    "        while left<= right nad pivot < S[right]:\n",
    "            left += 1\n",
    "        # Scan until reaching value equal or smaller than pivot (or left maker)\n",
    "        while left<= right and pivot < S[right]:\n",
    "            right -= 1\n",
    "        if left <= right:               # Scans did not strictly cross\n",
    "            S[left], S[right] = S[right], S[left]   # Swap values\n",
    "            left, right = left + 1, right - 1       # Shrink range\n",
    "\n",
    "    # Put pivor into its final place (currently marked by left index)\n",
    "    S[left], S[b] = S[b], S[left]\n",
    "    # Make recursicve calls\n",
    "    inplace_quick_sort(S, a, left-1)\n",
    "    inplace_quick_sort(S, left + 1, b)"
   ]
  },
  {
   "source": [
    "## Exercise 12.29:\n",
    "Implement a bottom-up merge-sort for a collection of items by placing each item in its own queue, and then repeatedly merging pairs of queues until all items are sorted within a single queue."
   ],
   "cell_type": "markdown",
   "metadata": {}
  }
 ]
}